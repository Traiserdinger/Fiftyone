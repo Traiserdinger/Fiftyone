{
 "cells": [
  {
   "cell_type": "code",
   "execution_count": 1,
   "id": "7eb5af0f",
   "metadata": {},
   "outputs": [],
   "source": [
    "import fiftyone as fo\n",
    "import fiftyone.brain as fob\n",
    "import numpy as np\n",
    "from glob import glob\n",
    "import json\n",
    "import os"
   ]
  },
  {
   "cell_type": "code",
   "execution_count": 2,
   "id": "651cf691",
   "metadata": {},
   "outputs": [],
   "source": [
    "dataset = fo.Dataset.from_images_dir(\"F:\\\\AI_Challenge\\\\keyframes\", name=\"AI_Challenge\", tags=None, recursive=True)\n",
    "#tạo dataset mới"
   ]
  },
  {
   "cell_type": "code",
   "execution_count": 3,
   "id": "1a5c8cf8",
   "metadata": {},
   "outputs": [],
   "source": [
    "#dataset = fo.load_dataset(\"test\")"
   ]
  },
  {
   "cell_type": "code",
   "execution_count": 2,
   "id": "946de758",
   "metadata": {},
   "outputs": [],
   "source": [
    "dataset = fo.load_dataset(\"AI_Challenge\")\n",
    "#load dataset"
   ]
  },
  {
   "cell_type": "code",
   "execution_count": 4,
   "id": "1bc38f34",
   "metadata": {},
   "outputs": [
    {
     "name": "stdout",
     "output_type": "stream",
     "text": [
      "Session launched. Run `session.show()` to open the App in a cell output.\n"
     ]
    },
    {
     "data": {
      "application/javascript": [
       "window.open('http://localhost:5151/');"
      ],
      "text/plain": [
       "<IPython.core.display.Javascript object>"
      ]
     },
     "metadata": {},
     "output_type": "display_data"
    }
   ],
   "source": [
    "session = fo.launch_app(dataset, auto=False)\n",
    "session.open_tab()\n",
    "#khởi chạy fiftyone từ dữ liệu dataset"
   ]
  },
  {
   "cell_type": "code",
   "execution_count": 6,
   "id": "7e8c7fcb",
   "metadata": {},
   "outputs": [],
   "source": [
    "for sample in dataset:\n",
    "    _, sample['video'], sample['frameid'] = sample['filepath'][:-4].rsplit('\\\\', 2)\n",
    "    sample.save()\n",
    "#gán video, frameid vào sample"
   ]
  },
  {
   "cell_type": "code",
   "execution_count": 7,
   "id": "6093441c",
   "metadata": {},
   "outputs": [],
   "source": [
    "#object dêtction\n",
    "for sample in dataset:\n",
    "    object_path = f\"E:\\\\AI_Challenge\\\\objects\\\\{sample['video']}\\\\{sample['frameid']}.json\"\n",
    "    with open(object_path) as jsonfile:\n",
    "        det_data = json.load(jsonfile)\n",
    "    detections = []\n",
    "    for cls, box, score in zip(det_data['detection_class_entities'], det_data['detection_boxes'], det_data['detection_scores']):\n",
    "        # Convert to [top-left-x, top-left-y, width, height]\n",
    "        boxf = [float(box[1]), float(box[0]), float(box[3]) - float(box[1]), float(box[2]) - float(box[0])]\n",
    "        scoref = float(score)\n",
    "\n",
    "        # Only add objects with confidence > 0.4\n",
    "        if scoref > 0.4:\n",
    "            detections.append(\n",
    "                fo.Detection(\n",
    "                    label=cls,\n",
    "                    bounding_box= boxf,\n",
    "                    confidence=float(score)\n",
    "                )\n",
    "            )\n",
    "    sample[\"object_faster_rcnn\"] = fo.Detections(detections=detections)\n",
    "    sample.save()"
   ]
  },
  {
   "cell_type": "code",
   "execution_count": 15,
   "id": "74cfcf02",
   "metadata": {},
   "outputs": [],
   "source": [
    "all_keyframe = glob('F:\\\\AI_Challenge\\\\keyframes\\\\*\\\\*.jpg')\n",
    "video_keyframe_dict = {}\n",
    "all_video = glob('F:\\\\AI_Challenge\\\\keyframes\\\\*')\n",
    "all_video = [v.rsplit('\\\\',1)[-1] for v in all_video]"
   ]
  },
  {
   "cell_type": "code",
   "execution_count": 16,
   "id": "55e05a50",
   "metadata": {},
   "outputs": [],
   "source": [
    "for kf in all_keyframe:\n",
    "    _, vid, kf = kf[:-4].rsplit('\\\\',2)\n",
    "    if vid not in video_keyframe_dict.keys():\n",
    "        video_keyframe_dict[vid] = [kf]\n",
    "    else:\n",
    "        video_keyframe_dict[vid].append(kf)"
   ]
  },
  {
   "cell_type": "code",
   "execution_count": 17,
   "id": "06a1497b",
   "metadata": {},
   "outputs": [],
   "source": [
    "for k,v in video_keyframe_dict.items():\n",
    "    video_keyframe_dict[k] = sorted(v)"
   ]
  },
  {
   "cell_type": "code",
   "execution_count": 18,
   "id": "1a8fe8ea",
   "metadata": {},
   "outputs": [],
   "source": [
    "embedding_dict = {}\n",
    "for v in all_video:\n",
    "    clip_path = f'E:\\\\AI_Challenge\\\\clip-features-vit-b32\\\\{v}.npy'\n",
    "    a = np.load(clip_path)\n",
    "    embedding_dict[v] = {}\n",
    "    for i,k in enumerate(video_keyframe_dict[v]):\n",
    "        embedding_dict[v][k] = a[i]"
   ]
  },
  {
   "cell_type": "code",
   "execution_count": 19,
   "id": "1acfdab2",
   "metadata": {},
   "outputs": [],
   "source": [
    "clip_embeddings = []\n",
    "for sample in dataset:\n",
    "    clip_embedding = embedding_dict[sample['video']][sample['frameid']]\n",
    "    clip_embeddings.append(clip_embedding)"
   ]
  },
  {
   "cell_type": "code",
   "execution_count": 20,
   "id": "6dd1bb7d",
   "metadata": {},
   "outputs": [
    {
     "data": {
      "text/plain": [
       "<fiftyone.brain.internal.core.sklearn.SklearnSimilarityIndex at 0x1b258ec7b90>"
      ]
     },
     "execution_count": 20,
     "metadata": {},
     "output_type": "execute_result"
    }
   ],
   "source": [
    "#CLIP feature\n",
    "fob.compute_similarity(\n",
    "    dataset,\n",
    "    model=\"clip-vit-base32-torch\",      # store model's name for future use\n",
    "    embeddings=clip_embeddings,          # precomputed image embeddings\n",
    "    brain_key=\"img_sim\",\n",
    ")"
   ]
  },
  {
   "cell_type": "code",
   "execution_count": 2,
   "id": "691ab1ac",
   "metadata": {},
   "outputs": [
    {
     "name": "stdout",
     "output_type": "stream",
     "text": [
      "['AI_Challenge', 'test']\n"
     ]
    }
   ],
   "source": [
    "print(fo.list_datasets())\n",
    "#in danh sách dataset"
   ]
  },
  {
   "cell_type": "code",
   "execution_count": null,
   "id": "06fb51e5",
   "metadata": {},
   "outputs": [],
   "source": [
    "fo.core.session.close_app()\n",
    "#đóng fiftyone"
   ]
  },
  {
   "cell_type": "code",
   "execution_count": 21,
   "id": "905c3508",
   "metadata": {},
   "outputs": [],
   "source": [
    "import csv"
   ]
  },
  {
   "cell_type": "code",
   "execution_count": 22,
   "id": "16dd8305",
   "metadata": {},
   "outputs": [],
   "source": [
    "#thêm frame idx và time\n",
    "all_video = glob(\"F:\\\\AI_Challenge\\\\keyframes\\\\*\")\n",
    "for i in all_video:\n",
    "    #file video\n",
    "    video_id=i[-8:]\n",
    "    all_keyframe = glob(\"F:\\\\AI_Challenge\\\\keyframes\\\\\"+video_id+\"\\\\*.jpg\")\n",
    "    \n",
    "    table=[]\n",
    "    with open('E:\\\\AI_Challenge\\\\map-keyframes\\\\'+ video_id +'.csv') as file:\n",
    "        csvreader = csv.reader(file)\n",
    "     \n",
    "    # extracting field names through first row\n",
    "        fields = next(csvreader)\n",
    " \n",
    "    # extracting each data row one by one\n",
    "        for row in csvreader:\n",
    "            table.append(row)\n",
    "\n",
    "    for frame in all_keyframe:\n",
    "        #file frame\n",
    "        sample = dataset[frame]\n",
    "        row = int(sample['frameid'])-1\n",
    "        sample['frame_idx'] = table[row][3]\n",
    "        time = float(table[row][1])\n",
    "        sample['time'] = (str(int(time//60))+ ':' + str(int(time%60)))\n",
    "        sample.save()\n"
   ]
  }
 ],
 "metadata": {
  "kernelspec": {
   "display_name": "Python 3 (ipykernel)",
   "language": "python",
   "name": "python3"
  },
  "language_info": {
   "codemirror_mode": {
    "name": "ipython",
    "version": 3
   },
   "file_extension": ".py",
   "mimetype": "text/x-python",
   "name": "python",
   "nbconvert_exporter": "python",
   "pygments_lexer": "ipython3",
   "version": "3.11.4"
  }
 },
 "nbformat": 4,
 "nbformat_minor": 5
}
