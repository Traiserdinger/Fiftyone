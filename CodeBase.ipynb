{
 "cells": [
  {
   "cell_type": "code",
   "execution_count": null,
   "id": "bcca3c99-a2c8-468a-9e5f-38f9d33ab5cd",
   "metadata": {},
   "outputs": [],
   "source": [
    "import fiftyone as fo\n",
    "import fiftyone.brain as fob\n",
    "import numpy as np\n",
    "from glob import glob\n",
    "import json\n",
    "import os"
   ]
  },
  {
   "cell_type": "code",
   "execution_count": null,
   "id": "eb4f7c79-50d3-4215-a22f-ae7eeef5a245",
   "metadata": {},
   "outputs": [],
   "source": [
    "dataset = fo.Dataset.from_images_dir('E:\\\\AI_Challenge\\\\keyframes-2', name=\"AIC_Dataset_Set2\", tags=None, recursive=True)"
   ]
  },
  {
   "cell_type": "code",
   "execution_count": null,
   "id": "ee8de5a9-4006-4e62-980e-c07c5f176ed7",
   "metadata": {},
   "outputs": [],
   "source": [
    "for sample in dataset:\n",
    "    _, sample['video'], sample['frameid'] = sample['filepath'][:-4].rsplit('\\\\', 2)\n",
    "    sample.save()"
   ]
  },
  {
   "cell_type": "code",
   "execution_count": null,
   "id": "a6c2d26e-a520-4611-8d6f-81fe014b6966",
   "metadata": {},
   "outputs": [],
   "source": [
    "for sample in dataset:\n",
    "    object_path = f\"E:\\\\AI_Challenge\\\\object-2\\\\{sample['video']}\\\\{sample['frameid']}.json\"\n",
    "    with open(object_path) as jsonfile:\n",
    "        det_data = json.load(jsonfile)\n",
    "    detections = []\n",
    "    for cls, box, score in zip(det_data['detection_class_entities'], det_data['detection_boxes'], det_data['detection_scores']):\n",
    "        # Convert to [top-left-x, top-left-y, width, height]\n",
    "        boxf = [float(box[1]), float(box[0]), float(box[3]) - float(box[1]), float(box[2]) - float(box[0])]\n",
    "        scoref = float(score)\n",
    "\n",
    "        # Only add objects with confidence > 0.4\n",
    "        if scoref > 0.4:\n",
    "            detections.append(\n",
    "                fo.Detection(\n",
    "                    label=cls,\n",
    "                    bounding_box= boxf,\n",
    "                    confidence=float(score)\n",
    "                )\n",
    "            )\n",
    "    sample[\"object_faster_rcnn\"] = fo.Detections(detections=detections)\n",
    "    sample.save()"
   ]
  },
  {
   "cell_type": "code",
   "execution_count": null,
   "id": "66aae866-f91c-4acb-8194-d4f0ef5eeed7",
   "metadata": {},
   "outputs": [],
   "source": [
    "all_keyframe = glob('E:\\\\AI_Challenge\\\\keyframes-2\\\\*\\\\*.jpg')\n",
    "##Nên đổi lại thành <địa chỉ tới file keyframes\\\\*\\\\*.jpg\n",
    "video_keyframe_dict = {}\n",
    "all_video = glob('E:\\\\AI_Challenge\\\\keyframes-2\\\\*')\n",
    "##tương tự, nên đổi thành <địa chỉ tới file keyframes\\\\*\\\\*\n",
    "all_video = [v.rsplit('\\\\',1)[-1] for v in all_video]"
   ]
  },
  {
   "cell_type": "code",
   "execution_count": null,
   "id": "bea90833-cde0-40ea-be63-63f18b3a0d4f",
   "metadata": {},
   "outputs": [],
   "source": [
    "for kf in all_keyframe:\n",
    "    _, vid, kf = kf[:-4].rsplit('\\\\',2)\n",
    "    if vid not in video_keyframe_dict.keys():\n",
    "        video_keyframe_dict[vid] = [kf]\n",
    "    else:\n",
    "        video_keyframe_dict[vid].append(kf)"
   ]
  },
  {
   "cell_type": "code",
   "execution_count": null,
   "id": "d665b0ea-8c9d-410d-a823-ee04bb88ff41",
   "metadata": {},
   "outputs": [],
   "source": [
    "for k,v in video_keyframe_dict.items():\n",
    "    video_keyframe_dict[k] = sorted(v)"
   ]
  },
  {
   "cell_type": "code",
   "execution_count": null,
   "id": "2179ed90-7daa-4312-a461-1abb38aab8da",
   "metadata": {},
   "outputs": [],
   "source": [
    "embedding_dict = {}\n",
    "for v in all_video:\n",
    "    clip_path = f'E:\\\\AI_Challenge\\\\clip-features-32-2\\\\{v}.npy'\n",
    "    a = np.load(clip_path)\n",
    "    embedding_dict[v] = {}\n",
    "    for i,k in enumerate(video_keyframe_dict[v]):\n",
    "        embedding_dict[v][k] = a[i]"
   ]
  },
  {
   "cell_type": "code",
   "execution_count": null,
   "id": "9944e8ff-eed7-47cf-b0db-92b672be9c00",
   "metadata": {},
   "outputs": [],
   "source": [
    "clip_embeddings = []\n",
    "for sample in dataset:\n",
    "    clip_embedding = embedding_dict[sample['video']][sample['frameid']]\n",
    "    clip_embeddings.append(clip_embedding)"
   ]
  },
  {
   "cell_type": "code",
   "execution_count": null,
   "id": "f5928df0-91e0-4de4-8212-e9cde53e41e3",
   "metadata": {},
   "outputs": [],
   "source": [
    "import numpy as np\n",
    "\n",
    "# Chuyển đổi danh sách clip_embeddings thành mảng numpy\n",
    "clip_embeddings = np.array(clip_embeddings)\n",
    "\n",
    "# Sau đó chuyển đổi kiểu dữ liệu thành float32\n",
    "clip_embeddings = clip_embeddings.astype(np.float32)\n"
   ]
  },
  {
   "cell_type": "code",
   "execution_count": null,
   "id": "895413d0-3fc4-4840-8886-19a1287e1ff8",
   "metadata": {},
   "outputs": [],
   "source": [
    "fob.compute_similarity(\n",
    "    dataset,\n",
    "    model=\"clip-vit-base32-torch\",      # store model's name for future use\n",
    "    embeddings=clip_embeddings,          # precomputed image embeddings\n",
    "    brain_key=\"img_sim_1\",\n",
    ")"
   ]
  },
  {
   "cell_type": "code",
   "execution_count": 2,
   "id": "ca2c2da9-d55b-4e2b-bea1-91417698f5e5",
   "metadata": {},
   "outputs": [],
   "source": [
    "fob.compute_visualization(\n",
    "     dataset,\n",
    "     embeddings=clip_embeddings,\n",
    "     brain_key=\"img_viz\"\n",
    ")##Note từ Đức Trung: Cái này m phải tải numpy về trc, trong cmd của anacoda ấy, tải bản 1.26.4 hay thấp hơn 2.0 là đc, mặc định là 2.1 ko chạy đc đâu, tải xong từ sẽ phải chạy lại từ đầu :))"
   ]
  },
  {
   "cell_type": "code",
   "execution_count": null,
   "id": "0f50bc02-3ea8-4dc4-9d15-1e7704830401",
   "metadata": {},
   "outputs": [],
   "source": [
    "import pandas as pd\n",
    "from glob import glob\n",
    "import os\n",
    "\n",
    "# Lấy đường dẫn tới tất cả các tệp CSV trong folder\n",
    "csv_folder = 'E:\\\\AI_Challenge\\\\mao-keyframes-2'\n",
    "csv_files = glob(os.path.join(csv_folder, \"*.csv\"))\n",
    "\n",
    "# Đọc và hợp nhất tất cả các tệp CSV vào một DataFrame\n",
    "map_keyframe_data = pd.concat([pd.read_csv(f) for f in csv_files], ignore_index=True)\n",
    "\n",
    "# Hiển thị vài dòng đầu để kiểm tra\n",
    "print(map_keyframe_data.head())"
   ]
  },
  {
   "cell_type": "code",
   "execution_count": null,
   "id": "7419fc49-aeb6-465e-9840-8b4cfd079320",
   "metadata": {},
   "outputs": [],
   "source": [
    "# Tích hợp lại từ Bước 1 và Bước 2\n",
    "def get_frame_idx(n_value, map_data):\n",
    "    \"\"\"\n",
    "    Trả về frame_idx tương ứng với giá trị n từ map keyframe data.\n",
    "    \n",
    "    Args:\n",
    "        n_value: Giá trị `n` từ file keyframes JPG.\n",
    "        map_data: DataFrame chứa thông tin `n`, `frame_idx`.\n",
    "    \n",
    "    Returns:\n",
    "        frame_idx tương ứng với n_value hoặc None nếu không tìm thấy.\n",
    "    \"\"\"\n",
    "    result = map_data[map_data['n'] == n_value]\n",
    "    if not result.empty:\n",
    "        return result.iloc[0]['frame_idx']\n",
    "    return None"
   ]
  },
  {
   "cell_type": "code",
   "execution_count": null,
   "id": "9d1a1d50-14b7-4166-9619-8578495865b6",
   "metadata": {},
   "outputs": [],
   "source": [
    "import os\n",
    "\n",
    "def extract_n_from_filename(filepath):\n",
    "    \"\"\"\n",
    "    Trích xuất giá trị n từ tên file keyframe (jpg).\n",
    "    \n",
    "    Args:\n",
    "        filepath: Đường dẫn tới file JPG.\n",
    "    \n",
    "    Returns:\n",
    "        n_value: Giá trị n được trích xuất từ tên file.\n",
    "    \"\"\"\n",
    "    filename = os.path.basename(filepath)\n",
    "    n_value = os.path.splitext(filename)[0].split('_')[-1]  # Giả sử n là phần cuối sau dấu _\n",
    "    return int(n_value)\n"
   ]
  },
  {
   "cell_type": "code",
   "execution_count": null,
   "id": "6783c809-dc6f-4cf7-8dc2-7c448616208d",
   "metadata": {},
   "outputs": [],
   "source": [
    "import fiftyone as fo\n",
    "import pandas as pd\n",
    "from glob import glob\n",
    "import os\n",
    "\n",
    "# Đọc tất cả các tệp CSV và hợp nhất chúng\n",
    "csv_folder = 'E:\\\\AI_Challenge\\\\mao-keyframes-2'\n",
    "csv_files = glob(os.path.join(csv_folder, \"*.csv\"))\n",
    "map_keyframe_data = pd.concat([pd.read_csv(f) for f in csv_files], ignore_index=True)\n",
    "\n",
    "# Lấy tất cả các tệp keyframe JPG\n",
    "all_keyframes = glob('E:\\\\AI_Challenge\\\\keyframes-2\\\\*\\\\*.jpg')\n",
    "\n",
    "# Tải dataset đã tồn tại\n",
    "dataset = fo.load_dataset('AIC_Dataset_Set2')\n",
    "\n",
    "# Duyệt qua từng sample trong dataset và ánh xạ frame_idx từ giá trị n\n",
    "for sample in dataset:\n",
    "    # Lấy giá trị n từ tên file JPG\n",
    "    n_value = extract_n_from_filename(sample['filepath'])\n",
    "    \n",
    "    # Tra cứu frame_idx từ n\n",
    "    frame_idx = get_frame_idx(n_value, map_keyframe_data)\n",
    "    \n",
    "    # Lưu lại thông tin frame_idx vào sample\n",
    "    sample[\"frame_idx\"] = frame_idx\n",
    "    sample.save()\n",
    "\n",
    "# Kiểm tra dataset sau khi cập nhật\n",
    "for sample in dataset:\n",
    "    print(f\"Video: {sample['video']}, Frame ID: {sample['frameid']}, Frame IDX: {sample['frame_idx']}\")\n"
   ]
  },
  {
   "cell_type": "code",
   "execution_count": null,
   "id": "f8b40ff7-69fa-4bfa-ae4d-e4b077af9839",
   "metadata": {},
   "outputs": [],
   "source": [
    "session=fo.launch_app(dataset, auto=False)"
   ]
  },
  {
   "cell_type": "code",
   "execution_count": null,
   "id": "712cfcab-b65a-4947-889b-3560192f98ee",
   "metadata": {},
   "outputs": [],
   "source": [
    "session.open_tab()"
   ]
  }
 ],
 "metadata": {
  "kernelspec": {
   "display_name": "Python 3 (ipykernel)",
   "language": "python",
   "name": "python3"
  },
  "language_info": {
   "codemirror_mode": {
    "name": "ipython",
    "version": 3
   },
   "file_extension": ".py",
   "mimetype": "text/x-python",
   "name": "python",
   "nbconvert_exporter": "python",
   "pygments_lexer": "ipython3",
   "version": "3.12.4"
  }
 },
 "nbformat": 4,
 "nbformat_minor": 5
}
